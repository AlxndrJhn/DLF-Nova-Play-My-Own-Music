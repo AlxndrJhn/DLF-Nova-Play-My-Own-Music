{
 "cells": [
  {
   "cell_type": "code",
   "execution_count": 5,
   "metadata": {},
   "outputs": [
    {
     "output_type": "stream",
     "name": "stdout",
     "text": "[1, 2, 3]\n"
    }
   ],
   "source": [
    "from multiprocessing import Pool\n",
    "import workers\n",
    "\n",
    "\n",
    "p=Pool(processes = num_processors)\n",
    "output = p.map(workers.my_function ,[i for i in range(0,3)])\n",
    "print(output)"
   ]
  },
  {
   "cell_type": "code",
   "execution_count": 10,
   "metadata": {},
   "outputs": [],
   "source": [
    "from pathlib import Path\n",
    "import random\n"
   ]
  },
  {
   "cell_type": "code",
   "execution_count": 9,
   "metadata": {},
   "outputs": [],
   "source": [
    "train_ratio = 80 # %\n",
    "chunksize=10 # s\n",
    "chunk_offset = 1 # s\n",
    "dataset_folder = Path('datasets')\n",
    "num_processors = 8\n",
    "random_seed = 42"
   ]
  },
  {
   "cell_type": "code",
   "execution_count": null,
   "metadata": {},
   "outputs": [],
   "source": [
    "import process_mp3_file\n",
    "import importlib\n",
    "importlib.reload(process_mp3_file)\n",
    "\n",
    "p=Pool(processes = num_processors)\n",
    "features_train = []\n",
    "for label in ['m','p']:\n",
    "    files = list((dataset_folder / label).iterdir())\n",
    "    random.shuffle(files)\n",
    "    \n",
    "    # train data\n",
    "    n_train = round(len(file) * train_ratio /100)\n",
    "    map(, pages)\n",
    "    output = p.map(lambda f: process_mp3_file(f, chunksize, chunk_offset) ,[files[i] for i in range(n_train)])\n",
    "        audio_file = files[i]\n",
    "\n"
   ]
  }
 ],
 "metadata": {
  "language_info": {
   "codemirror_mode": {
    "name": "ipython",
    "version": 3
   },
   "file_extension": ".py",
   "mimetype": "text/x-python",
   "name": "python",
   "nbconvert_exporter": "python",
   "pygments_lexer": "ipython3",
   "version": "3.7.5-final"
  },
  "orig_nbformat": 2,
  "kernelspec": {
   "name": "python37564bitvenvvenv35ee53c699b844df969397a76fdc5b59",
   "display_name": "Python 3.7.5 64-bit ('.venv': venv)"
  }
 },
 "nbformat": 4,
 "nbformat_minor": 2
}